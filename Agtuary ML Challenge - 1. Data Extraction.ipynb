{
 "cells": [
  {
   "cell_type": "markdown",
   "metadata": {},
   "source": [
    "# Agtuary ML Challenge - 1. Data Extraction\n",
    "\n",
    "This notebook downloads the raw data for the [Agtuary ML Challenge](https://github.com/agtuary/machine-learning-challenge). The downloaded TAR archive is extracted into a subfolder named 'data' where it can be accessed for analysis, model training and inference in later notebooks."
   ]
  },
  {
   "cell_type": "code",
   "execution_count": 1,
   "metadata": {},
   "outputs": [],
   "source": [
    "import os\n",
    "import glob\n",
    "import tarfile\n",
    "import urllib.request"
   ]
  },
  {
   "cell_type": "code",
   "execution_count": 2,
   "metadata": {},
   "outputs": [],
   "source": [
    "# variables for data weblink and filename\n",
    "AGTUARY_URL = \"https://agtuary-data-public.s3.ap-southeast-2.amazonaws.com/machine-learning-challenge/agtuary-ml.tar.gz\"\n",
    "TAR_FILE = \"agtuary-ml.tar.gz\""
   ]
  },
  {
   "cell_type": "code",
   "execution_count": 3,
   "metadata": {},
   "outputs": [
    {
     "name": "stdout",
     "output_type": "stream",
     "text": [
      "/home/lachy/dml/agtuary-machine-learning-challenge-master\n"
     ]
    }
   ],
   "source": [
    "# get the current working directory\n",
    "path = os.getcwd()\n",
    "print(path)"
   ]
  },
  {
   "cell_type": "code",
   "execution_count": 4,
   "metadata": {},
   "outputs": [],
   "source": [
    "# download data from link\n",
    "def download_data(url, filename):\n",
    "    print(f\"Checking if '{filename}' already exists in current directory...\")\n",
    "    file_path = os.path.join(path, TAR_FILE)\n",
    "    if os.path.exists(file_path) is True:\n",
    "        print(f\"Cannot download: '{filename}' already exists.\")\n",
    "    else:\n",
    "        print(f\"Downloading '{filename}' from {url}\")\n",
    "        urllib.request.urlretrieve(url, filename)\n",
    "        print(\"Download complete.\")"
   ]
  },
  {
   "cell_type": "code",
   "execution_count": 5,
   "metadata": {},
   "outputs": [],
   "source": [
    "# make subfolder to store data\n",
    "def make_subfolder(subfolder_path):\n",
    "    if not os.path.exists(subfolder_path):\n",
    "        os.mkdir(subfolder_path)\n",
    "        print(f\"Created subfolder '{subfolder_path}'\")\n",
    "    else:\n",
    "        print(f\"Cannot create directory: '{subfolder_path}' already exists.\")"
   ]
  },
  {
   "cell_type": "code",
   "execution_count": 6,
   "metadata": {},
   "outputs": [],
   "source": [
    "# extract tar archive to empty directory\n",
    "def extract_tar_to_dir(tar_file, extract_dir):\n",
    "    tar_path = os.path.join(os.getcwd(), tar_file)\n",
    "    if len(os.listdir(extract_dir)) == 0:\n",
    "        with tarfile.open(tar_path) as tar:\n",
    "            tar.extractall(extract_dir)\n",
    "        print(f\"'{tar_file}' extracted to '{extract_dir}'\")\n",
    "    else:\n",
    "        print(f\"Cannot extract: '{extract_dir}' is not empty.\")"
   ]
  },
  {
   "cell_type": "code",
   "execution_count": 7,
   "metadata": {},
   "outputs": [
    {
     "name": "stdout",
     "output_type": "stream",
     "text": [
      "Checking if 'agtuary-ml.tar.gz' already exists in current directory...\n",
      "Downloading 'agtuary-ml.tar.gz' from https://agtuary-data-public.s3.ap-southeast-2.amazonaws.com/machine-learning-challenge/agtuary-ml.tar.gz\n",
      "Download complete.\n",
      "CPU times: user 1.96 s, sys: 1.7 s, total: 3.66 s\n",
      "Wall time: 52 s\n"
     ]
    }
   ],
   "source": [
    "%%time\n",
    "# download data from link\n",
    "download_data(url=AGTUARY_URL, filename=TAR_FILE)"
   ]
  },
  {
   "cell_type": "code",
   "execution_count": 10,
   "metadata": {},
   "outputs": [
    {
     "name": "stdout",
     "output_type": "stream",
     "text": [
      "Created subfolder '/home/lachy/dml/agtuary-machine-learning-challenge-master/data_raw'\n"
     ]
    }
   ],
   "source": [
    "# create subfolder for data\n",
    "data_dir = os.path.join(path, \"data_raw\")\n",
    "make_subfolder(data_dir)"
   ]
  },
  {
   "cell_type": "code",
   "execution_count": 11,
   "metadata": {},
   "outputs": [
    {
     "name": "stdout",
     "output_type": "stream",
     "text": [
      "'agtuary-ml.tar.gz' extracted to '/home/lachy/dml/agtuary-machine-learning-challenge-master/data_raw'\n",
      "CPU times: user 1.65 s, sys: 310 ms, total: 1.96 s\n",
      "Wall time: 1.96 s\n"
     ]
    }
   ],
   "source": [
    "%%time\n",
    "# extract contents to data subfolder\n",
    "extract_tar_to_dir(TAR_FILE, data_dir)"
   ]
  }
 ],
 "metadata": {
  "kernelspec": {
   "display_name": "Python 3 (ipykernel)",
   "language": "python",
   "name": "python3"
  },
  "language_info": {
   "codemirror_mode": {
    "name": "ipython",
    "version": 3
   },
   "file_extension": ".py",
   "mimetype": "text/x-python",
   "name": "python",
   "nbconvert_exporter": "python",
   "pygments_lexer": "ipython3",
   "version": "3.8.13"
  }
 },
 "nbformat": 4,
 "nbformat_minor": 4
}
