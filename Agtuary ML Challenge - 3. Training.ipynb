{
 "cells": [
  {
   "cell_type": "markdown",
   "metadata": {},
   "source": [
    "# Agtuary ML Challenge - Training\n",
    "\n",
    "This notebook trains and evaluates a series of models as part of the [Agtuary ML Challenge](https://github.com/agtuary/machine-learning-challenge).\n",
    "\n",
    "In this notebook I have developed a training pipeline consisting of the following steps:\n",
    "1. A standard scaler to normalise input features between 0 and 1, which can be important for certain models such as neural networks\n",
    "2. A stratified and shuffled K-fold cross validation strategy. Stratifying maintains the class balance, ensuring each fold is representative of the data, while shuffling ensures each fold contains members of each class. To keep runtime down only 5 folds are created with no repeats, although the variance between folds is minimal\n",
    "3. A grid search over a limited number of hyperparameters for each model in order to keep runtime down. The search should probably be expanded in future to test new and different hyperparameter settings that could unlock performance gains.\n",
    "4. An evaluation using 7 different metrics for imbalanced classification problems. The F1 score 'macro' is chosen as the selection metric as it provides a balance between variance and bias, and, I feel, provides the best representation of the confusion matrix on an imbalanced problem.\n",
    "\n",
    "The cross validation evaluation table shows that the AdaBoost and stochastic gradient descent models are outperformed by the multilayer perceptron (MLP), random forest classifier (RFC) and the k-nearest neighbours classifier (KNN), which all perform comparably. A final evaluation on the test set (held out from the set used for cross validation) using confusion matrices shows that the MLP and RFC generalise better than the KNN. As the RFC has a slightly better Cohen-Kappa score, the RFC is chosen for use on an inference task in the next notebook."
   ]
  },
  {
   "cell_type": "code",
   "execution_count": 1,
   "metadata": {},
   "outputs": [],
   "source": [
    "import PIL\n",
    "import numpy as np\n",
    "import pandas as pd\n",
    "import matplotlib.pyplot as plt\n",
    "import matplotlib.colors as mcolors\n",
    "import matplotlib.patches as mpatches\n",
    "\n",
    "from sklearn.preprocessing import StandardScaler\n",
    "from sklearn.model_selection import train_test_split, cross_validate, StratifiedKFold, GridSearchCV, RandomizedSearchCV\n",
    "from sklearn.linear_model import SGDClassifier\n",
    "from sklearn.ensemble import RandomForestClassifier, AdaBoostClassifier\n",
    "from sklearn.neural_network import MLPClassifier\n",
    "from sklearn.neighbors import KNeighborsClassifier\n",
    "from sklearn.metrics import confusion_matrix, ConfusionMatrixDisplay, classification_report\n",
    "from sklearn.metrics import make_scorer, fbeta_score, jaccard_score, cohen_kappa_score, matthews_corrcoef\n",
    "\n",
    "import os\n",
    "import glob\n",
    "import pickle\n",
    "import tarfile\n",
    "import urllib.request\n",
    "\n",
    "pd.options.mode.chained_assignment = None"
   ]
  },
  {
   "cell_type": "code",
   "execution_count": 3,
   "metadata": {},
   "outputs": [],
   "source": [
    "def load_image(path):\n",
    "    return np.array(PIL.Image.open(path))[:, :]"
   ]
  },
  {
   "cell_type": "code",
   "execution_count": 4,
   "metadata": {},
   "outputs": [],
   "source": [
    "# make subfolder to store data\n",
    "def make_subfolder(subfolder_path):\n",
    "    if not os.path.exists(subfolder_path):\n",
    "        os.mkdir(subfolder_path)\n",
    "        print(f\"Created subfolder '{subfolder_path}'\")\n",
    "    else:\n",
    "        print(f\"Cannot create directory: '{subfolder_path}' already exists.\")"
   ]
  },
  {
   "cell_type": "code",
   "execution_count": 5,
   "metadata": {},
   "outputs": [],
   "source": [
    "def save_model(model, filename, folder):\n",
    "    print(f\"Checking if '{filename}' already exists in '{folder}'...\")\n",
    "    file_path = os.path.join(folder, filename)\n",
    "    if os.path.exists(file_path) is True:\n",
    "        print(f\"Cannot save model: '{filename}' already exists.\")\n",
    "    else:\n",
    "        print(f\"Saving '{filename}' to '{file_path}'\")\n",
    "        with open(file_path, 'wb') as f:\n",
    "            pickle.dump(model, f)\n",
    "        print(\"Save complete.\")"
   ]
  },
  {
   "cell_type": "code",
   "execution_count": 6,
   "metadata": {},
   "outputs": [],
   "source": [
    "#set variable groups\n",
    "bands = ['B01', 'B02', 'B03', 'B05', 'B06', 'B09', 'B11', 'B12']\n",
    "indices = ['ndmi', 'gemi']\n",
    "cloud_prob = ['cloud_prob']\n",
    "label = ['label_id']"
   ]
  },
  {
   "cell_type": "code",
   "execution_count": 7,
   "metadata": {},
   "outputs": [
    {
     "name": "stdout",
     "output_type": "stream",
     "text": [
      "/home/lachy/dml/agtuary-machine-learning-challenge-master\n"
     ]
    }
   ],
   "source": [
    "# get the current working directory\n",
    "path = os.getcwd()\n",
    "print(path)"
   ]
  },
  {
   "cell_type": "code",
   "execution_count": 8,
   "metadata": {},
   "outputs": [
    {
     "name": "stdout",
     "output_type": "stream",
     "text": [
      "/home/lachy/dml/agtuary-machine-learning-challenge-master/data_raw\n"
     ]
    }
   ],
   "source": [
    "# get location of data subfolder\n",
    "subfolder = \"data_raw\"\n",
    "data_dir = os.path.join(path, subfolder)\n",
    "print(data_dir)"
   ]
  },
  {
   "cell_type": "code",
   "execution_count": 9,
   "metadata": {},
   "outputs": [
    {
     "name": "stdout",
     "output_type": "stream",
     "text": [
      "Cannot create directory: '/home/lachy/dml/agtuary-machine-learning-challenge-master/models' already exists.\n"
     ]
    }
   ],
   "source": [
    "#create models directory if doesn't exist\n",
    "models_dir = os.path.join(path, \"models\")\n",
    "make_subfolder(models_dir)"
   ]
  },
  {
   "cell_type": "code",
   "execution_count": 10,
   "metadata": {},
   "outputs": [],
   "source": [
    "# load data into dataframe\n",
    "pixels = pd.read_csv(data_dir + \"/pixels.csv\")"
   ]
  },
  {
   "cell_type": "code",
   "execution_count": 11,
   "metadata": {},
   "outputs": [],
   "source": [
    "# remove band B04 and any pixels with cloud prob > 2\n",
    "df = pixels[pixels['cloud_prob'] <= 2].drop(columns=['B04'])"
   ]
  },
  {
   "cell_type": "code",
   "execution_count": 12,
   "metadata": {},
   "outputs": [
    {
     "data": {
      "text/plain": [
       "dict_values(['Other', 'Sorghum', 'Cotton'])"
      ]
     },
     "execution_count": 12,
     "metadata": {},
     "output_type": "execute_result"
    }
   ],
   "source": [
    "label_mapper = {0: 'Other', 1:'Sorghum', 2:'Cotton'}\n",
    "label_mapper.values()"
   ]
  },
  {
   "cell_type": "code",
   "execution_count": 13,
   "metadata": {},
   "outputs": [],
   "source": [
    "#NDMI index\n",
    "def calc_ndmi(df):\n",
    "    df['ndmi'] = (df.B08 - df.B11) / (df.B08 + df.B11)\n",
    "    return df"
   ]
  },
  {
   "cell_type": "code",
   "execution_count": 14,
   "metadata": {},
   "outputs": [],
   "source": [
    "#GEMI index\n",
    "def calc_gemi(df):\n",
    "    gemi_w = (2*(df.B09**2 - df.B05**2) + 1.5*df.B09 + 0.5*df.B05) / (df.B09 + df.B05 + 0.5)\n",
    "    df['gemi'] = (gemi_w * (1 - 0.25*gemi_w) - (df.B05-0.125)/(1-df.B05))\n",
    "    return df"
   ]
  },
  {
   "cell_type": "code",
   "execution_count": 15,
   "metadata": {},
   "outputs": [],
   "source": [
    "def calc_indices(df):\n",
    "    df = calc_ndmi(df)\n",
    "    df = calc_gemi(df)\n",
    "    return df"
   ]
  },
  {
   "cell_type": "code",
   "execution_count": 16,
   "metadata": {},
   "outputs": [],
   "source": [
    "df = calc_indices(df)"
   ]
  },
  {
   "cell_type": "code",
   "execution_count": 17,
   "metadata": {},
   "outputs": [],
   "source": [
    "df = df.drop(columns=['B07', 'B08', 'B8A'])"
   ]
  },
  {
   "cell_type": "markdown",
   "metadata": {},
   "source": [
    "## Model Training\n",
    "\n",
    "Pipeline: cross validation to select hyperparameters, comparison of optimised models on test set.\n",
    "\n",
    "The F1-score is chosen as the evaluation metric for optimisation. It provides balance between recall and precision."
   ]
  },
  {
   "cell_type": "code",
   "execution_count": 18,
   "metadata": {},
   "outputs": [],
   "source": [
    "# split into train and test, validate\n",
    "X, y = df[bands + indices], df.label_id\n",
    "X_train, X_test, y_train, y_test = train_test_split(X, y, test_size=0.3)"
   ]
  },
  {
   "cell_type": "code",
   "execution_count": 19,
   "metadata": {},
   "outputs": [],
   "source": [
    "# scale and centre\n",
    "scaler = StandardScaler()\n",
    "X_train = scaler.fit_transform(X_train)\n",
    "X_test = scaler.transform(X_test)"
   ]
  },
  {
   "cell_type": "code",
   "execution_count": 20,
   "metadata": {},
   "outputs": [
    {
     "name": "stdout",
     "output_type": "stream",
     "text": [
      "Checking if 'scaler.sav' already exists in '/home/lachy/dml/agtuary-machine-learning-challenge-master/models'...\n",
      "Cannot save model: 'scaler.sav' already exists.\n"
     ]
    }
   ],
   "source": [
    "save_model(scaler, 'scaler.sav', models_dir)"
   ]
  },
  {
   "cell_type": "code",
   "execution_count": 21,
   "metadata": {},
   "outputs": [],
   "source": [
    "# cross validation strategy - shuffle data, choose 5 non-overlapping test sets\n",
    "cv = StratifiedKFold(n_splits=5, shuffle=True, random_state=42)\n",
    "\n",
    "fone_scorer = make_scorer(fbeta_score, beta=1, average='macro')\n",
    "ftwo_scorer = make_scorer(fbeta_score, beta=2, average='macro')\n",
    "jaccard_scorer = make_scorer(jaccard_score, average='macro')\n",
    "kappa_scorer = make_scorer(cohen_kappa_score)\n",
    "matt_scorer = make_scorer(matthews_corrcoef)\n",
    "\n",
    "scoring = {'acc': 'accuracy',\n",
    "           'f1_macro': fone_scorer,\n",
    "           'f2_macro': ftwo_scorer,\n",
    "           'rec_macro': 'recall_macro',\n",
    "           'jaccard_macro': jaccard_scorer,\n",
    "           'kappa_score': kappa_scorer,\n",
    "           'matthews_score': matt_scorer}"
   ]
  },
  {
   "cell_type": "code",
   "execution_count": 22,
   "metadata": {},
   "outputs": [],
   "source": [
    "def evaluate_model(model, X, y, scoring, cv, n_jobs):\n",
    "    scores = cross_validate(estimator=model, X=X, y=y, scoring=scoring, cv=cv, n_jobs=n_jobs, return_train_score=False)\n",
    "    test_scorers = ['test_' + x for x in scoring.keys()]\n",
    "    evaluation_scores = pd.DataFrame.from_dict(scores).T.mean(axis=1).round(2)[test_scorers]\n",
    "    return evaluation_scores"
   ]
  },
  {
   "cell_type": "code",
   "execution_count": 23,
   "metadata": {},
   "outputs": [],
   "source": [
    "def optimise_model(model, grid, X, y, scoring, cv, n_jobs):\n",
    "    grid_search = GridSearchCV(estimator=model, param_grid=grid, n_jobs=n_jobs, cv=cv, scoring=scoring, verbose=2, error_score=0)\n",
    "    grid_result = grid_search.fit(X, y)\n",
    "    \n",
    "    # summarize results\n",
    "    print(\"Best: %f using %s\" % (grid_result.best_score_, grid_result.best_params_))\n",
    "    means = grid_result.cv_results_['mean_test_score']\n",
    "    stds = grid_result.cv_results_['std_test_score']\n",
    "    params = grid_result.cv_results_['params']\n",
    "    for mean, stdev, param in zip(means, stds, params):\n",
    "        print(\"%f (%f) with: %r\" % (mean, stdev, param))\n",
    "    \n",
    "    optimised_model = grid_result.best_estimator_\n",
    "    return optimised_model"
   ]
  },
  {
   "cell_type": "code",
   "execution_count": 24,
   "metadata": {},
   "outputs": [
    {
     "name": "stdout",
     "output_type": "stream",
     "text": [
      "Fitting 5 folds for each of 12 candidates, totalling 60 fits\n",
      "Best: 0.474747 using {'alpha': 1e-05, 'class_weight': None, 'eta0': 1, 'fit_intercept': False, 'learning_rate': 'optimal', 'loss': 'hinge', 'n_jobs': -1, 'penalty': 'l2'}\n",
      "0.474747 (0.012525) with: {'alpha': 1e-05, 'class_weight': None, 'eta0': 1, 'fit_intercept': False, 'learning_rate': 'optimal', 'loss': 'hinge', 'n_jobs': -1, 'penalty': 'l2'}\n",
      "0.395233 (0.012403) with: {'alpha': 1e-05, 'class_weight': None, 'eta0': 1, 'fit_intercept': False, 'learning_rate': 'optimal', 'loss': 'squared_hinge', 'n_jobs': -1, 'penalty': 'l2'}\n",
      "0.462383 (0.008350) with: {'alpha': 1e-05, 'class_weight': 'balanced', 'eta0': 1, 'fit_intercept': False, 'learning_rate': 'optimal', 'loss': 'hinge', 'n_jobs': -1, 'penalty': 'l2'}\n",
      "0.369938 (0.019470) with: {'alpha': 1e-05, 'class_weight': 'balanced', 'eta0': 1, 'fit_intercept': False, 'learning_rate': 'optimal', 'loss': 'squared_hinge', 'n_jobs': -1, 'penalty': 'l2'}\n",
      "0.336927 (0.003788) with: {'alpha': 0.01, 'class_weight': None, 'eta0': 1, 'fit_intercept': False, 'learning_rate': 'optimal', 'loss': 'hinge', 'n_jobs': -1, 'penalty': 'l2'}\n",
      "0.379219 (0.004910) with: {'alpha': 0.01, 'class_weight': None, 'eta0': 1, 'fit_intercept': False, 'learning_rate': 'optimal', 'loss': 'squared_hinge', 'n_jobs': -1, 'penalty': 'l2'}\n",
      "0.325254 (0.002763) with: {'alpha': 0.01, 'class_weight': 'balanced', 'eta0': 1, 'fit_intercept': False, 'learning_rate': 'optimal', 'loss': 'hinge', 'n_jobs': -1, 'penalty': 'l2'}\n",
      "0.368579 (0.006488) with: {'alpha': 0.01, 'class_weight': 'balanced', 'eta0': 1, 'fit_intercept': False, 'learning_rate': 'optimal', 'loss': 'squared_hinge', 'n_jobs': -1, 'penalty': 'l2'}\n",
      "0.294596 (0.000921) with: {'alpha': 1.0, 'class_weight': None, 'eta0': 1, 'fit_intercept': False, 'learning_rate': 'optimal', 'loss': 'hinge', 'n_jobs': -1, 'penalty': 'l2'}\n",
      "0.326752 (0.002282) with: {'alpha': 1.0, 'class_weight': None, 'eta0': 1, 'fit_intercept': False, 'learning_rate': 'optimal', 'loss': 'squared_hinge', 'n_jobs': -1, 'penalty': 'l2'}\n",
      "0.211415 (0.000692) with: {'alpha': 1.0, 'class_weight': 'balanced', 'eta0': 1, 'fit_intercept': False, 'learning_rate': 'optimal', 'loss': 'hinge', 'n_jobs': -1, 'penalty': 'l2'}\n",
      "0.295572 (0.003703) with: {'alpha': 1.0, 'class_weight': 'balanced', 'eta0': 1, 'fit_intercept': False, 'learning_rate': 'optimal', 'loss': 'squared_hinge', 'n_jobs': -1, 'penalty': 'l2'}\n",
      "CPU times: user 3.97 s, sys: 281 ms, total: 4.25 s\n",
      "Wall time: 3min 12s\n"
     ]
    },
    {
     "data": {
      "text/plain": [
       "test_acc               0.73\n",
       "test_f1_macro          0.46\n",
       "test_f2_macro          0.54\n",
       "test_rec_macro         0.70\n",
       "test_jaccard_macro     0.35\n",
       "test_kappa_score       0.22\n",
       "test_matthews_score    0.29\n",
       "dtype: float64"
      ]
     },
     "execution_count": 24,
     "metadata": {},
     "output_type": "execute_result"
    }
   ],
   "source": [
    "%%time\n",
    "#SGDClassifier\n",
    "sgd = SGDClassifier()\n",
    "\n",
    "loss = ['hinge', 'squared_hinge']\n",
    "penalty = ['l2']\n",
    "alpha = [0.00001, 0.01, 1.0]\n",
    "fit_intercept = [False]\n",
    "learning_rate = ['optimal']\n",
    "class_weight = [None, 'balanced']\n",
    "eta0 = [1]\n",
    "n_jobs= [-1]\n",
    "\n",
    "grid = dict(loss=loss, penalty=penalty, alpha=alpha, fit_intercept=fit_intercept, learning_rate=learning_rate,\n",
    "            class_weight=class_weight, eta0=eta0, n_jobs=n_jobs)\n",
    "\n",
    "sgd_best = optimise_model(sgd, grid, X_train, y_train, scoring=fone_scorer, cv=cv, n_jobs=-1)\n",
    "\n",
    "sgd_scores = evaluate_model(sgd_best, X_train, y_train, scoring=scoring, cv=cv, n_jobs=-1)\n",
    "sgd_scores"
   ]
  },
  {
   "cell_type": "code",
   "execution_count": 25,
   "metadata": {},
   "outputs": [
    {
     "name": "stdout",
     "output_type": "stream",
     "text": [
      "Checking if 'sgd.sav' already exists in '/home/lachy/dml/agtuary-machine-learning-challenge-master/models'...\n",
      "Saving 'sgd.sav' to '/home/lachy/dml/agtuary-machine-learning-challenge-master/models/sgd.sav'\n",
      "Save complete.\n"
     ]
    }
   ],
   "source": [
    "sgd_best.fit(X_train, y_train)\n",
    "save_model(sgd_best, 'sgd.sav', models_dir)"
   ]
  },
  {
   "cell_type": "code",
   "execution_count": 26,
   "metadata": {},
   "outputs": [
    {
     "name": "stdout",
     "output_type": "stream",
     "text": [
      "Fitting 5 folds for each of 6 candidates, totalling 30 fits\n",
      "Best: 0.895413 using {'activation': 'relu', 'alpha': 0.0001, 'early_stopping': True, 'hidden_layer_sizes': (100, 50, 25), 'learning_rate_init': 0.0001, 'max_iter': 1000}\n",
      "0.895413 (0.011457) with: {'activation': 'relu', 'alpha': 0.0001, 'early_stopping': True, 'hidden_layer_sizes': (100, 50, 25), 'learning_rate_init': 0.0001, 'max_iter': 1000}\n",
      "0.888250 (0.009354) with: {'activation': 'relu', 'alpha': 0.0001, 'early_stopping': True, 'hidden_layer_sizes': (100, 50, 25), 'learning_rate_init': 0.0001, 'max_iter': 2000}\n",
      "0.894038 (0.006137) with: {'activation': 'relu', 'alpha': 0.001, 'early_stopping': True, 'hidden_layer_sizes': (100, 50, 25), 'learning_rate_init': 0.0001, 'max_iter': 1000}\n",
      "0.895115 (0.004840) with: {'activation': 'relu', 'alpha': 0.001, 'early_stopping': True, 'hidden_layer_sizes': (100, 50, 25), 'learning_rate_init': 0.0001, 'max_iter': 2000}\n",
      "0.887223 (0.009115) with: {'activation': 'relu', 'alpha': 0.005, 'early_stopping': True, 'hidden_layer_sizes': (100, 50, 25), 'learning_rate_init': 0.0001, 'max_iter': 1000}\n",
      "0.891301 (0.007623) with: {'activation': 'relu', 'alpha': 0.005, 'early_stopping': True, 'hidden_layer_sizes': (100, 50, 25), 'learning_rate_init': 0.0001, 'max_iter': 2000}\n",
      "CPU times: user 7min 13s, sys: 3min 42s, total: 10min 56s\n",
      "Wall time: 14min 29s\n"
     ]
    },
    {
     "data": {
      "text/plain": [
       "test_acc               0.98\n",
       "test_f1_macro          0.89\n",
       "test_f2_macro          0.88\n",
       "test_rec_macro         0.87\n",
       "test_jaccard_macro     0.84\n",
       "test_kappa_score       0.83\n",
       "test_matthews_score    0.84\n",
       "dtype: float64"
      ]
     },
     "execution_count": 26,
     "metadata": {},
     "output_type": "execute_result"
    }
   ],
   "source": [
    "%%time\n",
    "#MLPClassifier\n",
    "mlp = MLPClassifier()\n",
    "\n",
    "learning_rate_init = [0.0001]\n",
    "max_iter = [1000, 2000]\n",
    "hidden_layer_sizes = [(100, 50, 25)]\n",
    "activation = ['relu']\n",
    "alpha = [0.0001, 0.001, 0.005]\n",
    "early_stopping = [True]\n",
    "\n",
    "# define grid search\n",
    "grid = dict(learning_rate_init=learning_rate_init, max_iter=max_iter, hidden_layer_sizes=hidden_layer_sizes, \n",
    "            activation=activation, alpha=alpha, early_stopping=early_stopping)\n",
    "\n",
    "mlp_best = optimise_model(mlp, grid, X_train, y_train, scoring=fone_scorer, cv=cv, n_jobs=-1)\n",
    "\n",
    "mlp_scores = evaluate_model(mlp_best, X_train, y_train, scoring=scoring, cv=cv, n_jobs=-1)\n",
    "mlp_scores"
   ]
  },
  {
   "cell_type": "code",
   "execution_count": 27,
   "metadata": {},
   "outputs": [
    {
     "name": "stdout",
     "output_type": "stream",
     "text": [
      "Checking if 'mlp.sav' already exists in '/home/lachy/dml/agtuary-machine-learning-challenge-master/models'...\n",
      "Saving 'mlp.sav' to '/home/lachy/dml/agtuary-machine-learning-challenge-master/models/mlp.sav'\n",
      "Save complete.\n"
     ]
    }
   ],
   "source": [
    "mlp_best.fit(X_train, y_train)\n",
    "save_model(mlp_best, 'mlp.sav', models_dir)"
   ]
  },
  {
   "cell_type": "code",
   "execution_count": 28,
   "metadata": {
    "scrolled": true
   },
   "outputs": [
    {
     "name": "stdout",
     "output_type": "stream",
     "text": [
      "Fitting 5 folds for each of 6 candidates, totalling 30 fits\n"
     ]
    },
    {
     "name": "stderr",
     "output_type": "stream",
     "text": [
      "/home/lachy/anaconda3/lib/python3.8/site-packages/joblib/externals/loky/process_executor.py:688: UserWarning: A worker stopped while some jobs were given to the executor. This can be caused by a too short worker timeout or by a memory leak.\n",
      "  warnings.warn(\n"
     ]
    },
    {
     "name": "stdout",
     "output_type": "stream",
     "text": [
      "Best: 0.943822 using {'max_features': 'log2', 'n_estimators': 1000, 'n_jobs': -1}\n",
      "0.936305 (0.001648) with: {'max_features': 'sqrt', 'n_estimators': 10, 'n_jobs': -1}\n",
      "0.943495 (0.003160) with: {'max_features': 'sqrt', 'n_estimators': 100, 'n_jobs': -1}\n",
      "0.943542 (0.002171) with: {'max_features': 'sqrt', 'n_estimators': 1000, 'n_jobs': -1}\n",
      "0.935665 (0.002785) with: {'max_features': 'log2', 'n_estimators': 10, 'n_jobs': -1}\n",
      "0.943143 (0.002708) with: {'max_features': 'log2', 'n_estimators': 100, 'n_jobs': -1}\n",
      "0.943822 (0.002436) with: {'max_features': 'log2', 'n_estimators': 1000, 'n_jobs': -1}\n",
      "CPU times: user 22min 18s, sys: 1.84 s, total: 22min 20s\n",
      "Wall time: 28min 27s\n"
     ]
    },
    {
     "data": {
      "text/plain": [
       "test_acc               0.99\n",
       "test_f1_macro          0.94\n",
       "test_f2_macro          0.94\n",
       "test_rec_macro         0.93\n",
       "test_jaccard_macro     0.90\n",
       "test_kappa_score       0.91\n",
       "test_matthews_score    0.91\n",
       "dtype: float64"
      ]
     },
     "execution_count": 28,
     "metadata": {},
     "output_type": "execute_result"
    }
   ],
   "source": [
    "%%time\n",
    "#RandomForestClassifier\n",
    "rfc = RandomForestClassifier()\n",
    "\n",
    "n_estimators = [10, 100, 1000]\n",
    "max_features = ['sqrt', 'log2']\n",
    "n_jobs = [-1]\n",
    "\n",
    "# define grid search\n",
    "grid = dict(n_estimators=n_estimators, max_features=max_features, n_jobs=n_jobs)\n",
    "\n",
    "rfc_best = optimise_model(rfc, grid, X_train, y_train, scoring=fone_scorer, cv=cv, n_jobs=-1)\n",
    "\n",
    "rfc_scores = evaluate_model(rfc_best, X_train, y_train, scoring=scoring, cv=cv, n_jobs=-1)\n",
    "rfc_scores"
   ]
  },
  {
   "cell_type": "code",
   "execution_count": 29,
   "metadata": {
    "scrolled": false
   },
   "outputs": [
    {
     "name": "stdout",
     "output_type": "stream",
     "text": [
      "Checking if 'rfc.sav' already exists in '/home/lachy/dml/agtuary-machine-learning-challenge-master/models'...\n",
      "Saving 'rfc.sav' to '/home/lachy/dml/agtuary-machine-learning-challenge-master/models/rfc.sav'\n",
      "Save complete.\n"
     ]
    }
   ],
   "source": [
    "rfc_best.fit(X_train, y_train)\n",
    "save_model(rfc_best, 'rfc.sav', models_dir)"
   ]
  },
  {
   "cell_type": "code",
   "execution_count": 30,
   "metadata": {},
   "outputs": [
    {
     "name": "stdout",
     "output_type": "stream",
     "text": [
      "Fitting 5 folds for each of 20 candidates, totalling 100 fits\n",
      "Best: 0.683191 using {'learning_rate': 0.1, 'n_estimators': 500}\n",
      "0.657953 (0.000296) with: {'learning_rate': 0.0001, 'n_estimators': 10}\n",
      "0.657953 (0.000296) with: {'learning_rate': 0.0001, 'n_estimators': 50}\n",
      "0.657953 (0.000296) with: {'learning_rate': 0.0001, 'n_estimators': 100}\n",
      "0.657953 (0.000296) with: {'learning_rate': 0.0001, 'n_estimators': 500}\n",
      "0.657953 (0.000296) with: {'learning_rate': 0.001, 'n_estimators': 10}\n",
      "0.657953 (0.000296) with: {'learning_rate': 0.001, 'n_estimators': 50}\n",
      "0.657953 (0.000296) with: {'learning_rate': 0.001, 'n_estimators': 100}\n",
      "0.658020 (0.000279) with: {'learning_rate': 0.001, 'n_estimators': 500}\n",
      "0.657953 (0.000296) with: {'learning_rate': 0.01, 'n_estimators': 10}\n",
      "0.658020 (0.000279) with: {'learning_rate': 0.01, 'n_estimators': 50}\n",
      "0.589384 (0.135185) with: {'learning_rate': 0.01, 'n_estimators': 100}\n",
      "0.657997 (0.000492) with: {'learning_rate': 0.01, 'n_estimators': 500}\n",
      "0.386693 (0.135338) with: {'learning_rate': 0.1, 'n_estimators': 10}\n",
      "0.657325 (0.000885) with: {'learning_rate': 0.1, 'n_estimators': 50}\n",
      "0.658833 (0.000367) with: {'learning_rate': 0.1, 'n_estimators': 100}\n",
      "0.683191 (0.076376) with: {'learning_rate': 0.1, 'n_estimators': 500}\n",
      "0.655863 (0.005364) with: {'learning_rate': 1.0, 'n_estimators': 10}\n",
      "0.629424 (0.058239) with: {'learning_rate': 1.0, 'n_estimators': 50}\n",
      "0.629424 (0.058239) with: {'learning_rate': 1.0, 'n_estimators': 100}\n",
      "0.629424 (0.058239) with: {'learning_rate': 1.0, 'n_estimators': 500}\n",
      "CPU times: user 1min 21s, sys: 502 ms, total: 1min 21s\n",
      "Wall time: 19min 11s\n"
     ]
    },
    {
     "data": {
      "text/plain": [
       "test_acc               0.83\n",
       "test_f1_macro          0.68\n",
       "test_f2_macro          0.68\n",
       "test_rec_macro         0.71\n",
       "test_jaccard_macro     0.64\n",
       "test_kappa_score       0.47\n",
       "test_matthews_score    0.51\n",
       "dtype: float64"
      ]
     },
     "execution_count": 30,
     "metadata": {},
     "output_type": "execute_result"
    }
   ],
   "source": [
    "%%time\n",
    "#AdaBoost\n",
    "ada = AdaBoostClassifier()\n",
    "\n",
    "n_estimators = [10, 50, 100, 500]\n",
    "learning_rate = [0.0001, 0.001, 0.01, 0.1, 1.0]\n",
    "\n",
    "# define grid search\n",
    "grid = dict(n_estimators=n_estimators, learning_rate=learning_rate)\n",
    "\n",
    "ada_best = optimise_model(ada, grid, X_train, y_train, scoring=fone_scorer, cv=cv, n_jobs=-1)\n",
    "\n",
    "ada_scores = evaluate_model(ada_best, X_train, y_train, scoring=scoring, cv=cv, n_jobs=-1)\n",
    "ada_scores"
   ]
  },
  {
   "cell_type": "code",
   "execution_count": 31,
   "metadata": {},
   "outputs": [
    {
     "name": "stdout",
     "output_type": "stream",
     "text": [
      "Checking if 'ada.sav' already exists in '/home/lachy/dml/agtuary-machine-learning-challenge-master/models'...\n",
      "Saving 'ada.sav' to '/home/lachy/dml/agtuary-machine-learning-challenge-master/models/ada.sav'\n",
      "Save complete.\n"
     ]
    }
   ],
   "source": [
    "ada_best.fit(X_train, y_train)\n",
    "save_model(ada_best, 'ada.sav', models_dir)"
   ]
  },
  {
   "cell_type": "code",
   "execution_count": 32,
   "metadata": {
    "scrolled": true
   },
   "outputs": [
    {
     "name": "stdout",
     "output_type": "stream",
     "text": [
      "Fitting 5 folds for each of 60 candidates, totalling 300 fits\n",
      "Best: 0.942847 using {'metric': 'manhattan', 'n_jobs': -1, 'n_neighbors': 1, 'weights': 'uniform'}\n",
      "0.927124 (0.003090) with: {'metric': 'euclidean', 'n_jobs': -1, 'n_neighbors': 1, 'weights': 'uniform'}\n",
      "0.927124 (0.003090) with: {'metric': 'euclidean', 'n_jobs': -1, 'n_neighbors': 1, 'weights': 'distance'}\n",
      "0.924241 (0.002913) with: {'metric': 'euclidean', 'n_jobs': -1, 'n_neighbors': 3, 'weights': 'uniform'}\n",
      "0.922557 (0.002815) with: {'metric': 'euclidean', 'n_jobs': -1, 'n_neighbors': 3, 'weights': 'distance'}\n",
      "0.921834 (0.002054) with: {'metric': 'euclidean', 'n_jobs': -1, 'n_neighbors': 5, 'weights': 'uniform'}\n",
      "0.920242 (0.002195) with: {'metric': 'euclidean', 'n_jobs': -1, 'n_neighbors': 5, 'weights': 'distance'}\n",
      "0.919037 (0.002926) with: {'metric': 'euclidean', 'n_jobs': -1, 'n_neighbors': 7, 'weights': 'uniform'}\n",
      "0.917709 (0.002572) with: {'metric': 'euclidean', 'n_jobs': -1, 'n_neighbors': 7, 'weights': 'distance'}\n",
      "0.917327 (0.002184) with: {'metric': 'euclidean', 'n_jobs': -1, 'n_neighbors': 9, 'weights': 'uniform'}\n",
      "0.915318 (0.002306) with: {'metric': 'euclidean', 'n_jobs': -1, 'n_neighbors': 9, 'weights': 'distance'}\n",
      "0.915249 (0.002372) with: {'metric': 'euclidean', 'n_jobs': -1, 'n_neighbors': 11, 'weights': 'uniform'}\n",
      "0.912900 (0.002605) with: {'metric': 'euclidean', 'n_jobs': -1, 'n_neighbors': 11, 'weights': 'distance'}\n",
      "0.913146 (0.002802) with: {'metric': 'euclidean', 'n_jobs': -1, 'n_neighbors': 13, 'weights': 'uniform'}\n",
      "0.910864 (0.002502) with: {'metric': 'euclidean', 'n_jobs': -1, 'n_neighbors': 13, 'weights': 'distance'}\n",
      "0.912029 (0.002435) with: {'metric': 'euclidean', 'n_jobs': -1, 'n_neighbors': 15, 'weights': 'uniform'}\n",
      "0.908960 (0.002611) with: {'metric': 'euclidean', 'n_jobs': -1, 'n_neighbors': 15, 'weights': 'distance'}\n",
      "0.909667 (0.003061) with: {'metric': 'euclidean', 'n_jobs': -1, 'n_neighbors': 17, 'weights': 'uniform'}\n",
      "0.906877 (0.003026) with: {'metric': 'euclidean', 'n_jobs': -1, 'n_neighbors': 17, 'weights': 'distance'}\n",
      "0.907402 (0.002879) with: {'metric': 'euclidean', 'n_jobs': -1, 'n_neighbors': 19, 'weights': 'uniform'}\n",
      "0.904967 (0.002970) with: {'metric': 'euclidean', 'n_jobs': -1, 'n_neighbors': 19, 'weights': 'distance'}\n",
      "0.942847 (0.002963) with: {'metric': 'manhattan', 'n_jobs': -1, 'n_neighbors': 1, 'weights': 'uniform'}\n",
      "0.942847 (0.002963) with: {'metric': 'manhattan', 'n_jobs': -1, 'n_neighbors': 1, 'weights': 'distance'}\n",
      "0.937248 (0.003224) with: {'metric': 'manhattan', 'n_jobs': -1, 'n_neighbors': 3, 'weights': 'uniform'}\n",
      "0.938667 (0.003552) with: {'metric': 'manhattan', 'n_jobs': -1, 'n_neighbors': 3, 'weights': 'distance'}\n",
      "0.932662 (0.002895) with: {'metric': 'manhattan', 'n_jobs': -1, 'n_neighbors': 5, 'weights': 'uniform'}\n",
      "0.935125 (0.002401) with: {'metric': 'manhattan', 'n_jobs': -1, 'n_neighbors': 5, 'weights': 'distance'}\n",
      "0.927780 (0.002077) with: {'metric': 'manhattan', 'n_jobs': -1, 'n_neighbors': 7, 'weights': 'uniform'}\n",
      "0.931206 (0.001987) with: {'metric': 'manhattan', 'n_jobs': -1, 'n_neighbors': 7, 'weights': 'distance'}\n",
      "0.925472 (0.002639) with: {'metric': 'manhattan', 'n_jobs': -1, 'n_neighbors': 9, 'weights': 'uniform'}\n",
      "0.928424 (0.002416) with: {'metric': 'manhattan', 'n_jobs': -1, 'n_neighbors': 9, 'weights': 'distance'}\n",
      "0.921794 (0.003383) with: {'metric': 'manhattan', 'n_jobs': -1, 'n_neighbors': 11, 'weights': 'uniform'}\n",
      "0.924946 (0.002468) with: {'metric': 'manhattan', 'n_jobs': -1, 'n_neighbors': 11, 'weights': 'distance'}\n",
      "0.919223 (0.002458) with: {'metric': 'manhattan', 'n_jobs': -1, 'n_neighbors': 13, 'weights': 'uniform'}\n",
      "0.922401 (0.002329) with: {'metric': 'manhattan', 'n_jobs': -1, 'n_neighbors': 13, 'weights': 'distance'}\n",
      "0.915855 (0.002606) with: {'metric': 'manhattan', 'n_jobs': -1, 'n_neighbors': 15, 'weights': 'uniform'}\n",
      "0.919608 (0.003037) with: {'metric': 'manhattan', 'n_jobs': -1, 'n_neighbors': 15, 'weights': 'distance'}\n",
      "0.913390 (0.003231) with: {'metric': 'manhattan', 'n_jobs': -1, 'n_neighbors': 17, 'weights': 'uniform'}\n",
      "0.916922 (0.003060) with: {'metric': 'manhattan', 'n_jobs': -1, 'n_neighbors': 17, 'weights': 'distance'}\n",
      "0.911218 (0.003022) with: {'metric': 'manhattan', 'n_jobs': -1, 'n_neighbors': 19, 'weights': 'uniform'}\n",
      "0.914408 (0.003230) with: {'metric': 'manhattan', 'n_jobs': -1, 'n_neighbors': 19, 'weights': 'distance'}\n",
      "0.927124 (0.003090) with: {'metric': 'minkowski', 'n_jobs': -1, 'n_neighbors': 1, 'weights': 'uniform'}\n",
      "0.927124 (0.003090) with: {'metric': 'minkowski', 'n_jobs': -1, 'n_neighbors': 1, 'weights': 'distance'}\n",
      "0.924241 (0.002913) with: {'metric': 'minkowski', 'n_jobs': -1, 'n_neighbors': 3, 'weights': 'uniform'}\n",
      "0.922557 (0.002815) with: {'metric': 'minkowski', 'n_jobs': -1, 'n_neighbors': 3, 'weights': 'distance'}\n",
      "0.921834 (0.002054) with: {'metric': 'minkowski', 'n_jobs': -1, 'n_neighbors': 5, 'weights': 'uniform'}\n",
      "0.920242 (0.002195) with: {'metric': 'minkowski', 'n_jobs': -1, 'n_neighbors': 5, 'weights': 'distance'}\n",
      "0.919037 (0.002926) with: {'metric': 'minkowski', 'n_jobs': -1, 'n_neighbors': 7, 'weights': 'uniform'}\n",
      "0.917709 (0.002572) with: {'metric': 'minkowski', 'n_jobs': -1, 'n_neighbors': 7, 'weights': 'distance'}\n",
      "0.917327 (0.002184) with: {'metric': 'minkowski', 'n_jobs': -1, 'n_neighbors': 9, 'weights': 'uniform'}\n",
      "0.915318 (0.002306) with: {'metric': 'minkowski', 'n_jobs': -1, 'n_neighbors': 9, 'weights': 'distance'}\n",
      "0.915249 (0.002372) with: {'metric': 'minkowski', 'n_jobs': -1, 'n_neighbors': 11, 'weights': 'uniform'}\n",
      "0.912900 (0.002605) with: {'metric': 'minkowski', 'n_jobs': -1, 'n_neighbors': 11, 'weights': 'distance'}\n",
      "0.913146 (0.002802) with: {'metric': 'minkowski', 'n_jobs': -1, 'n_neighbors': 13, 'weights': 'uniform'}\n",
      "0.910864 (0.002502) with: {'metric': 'minkowski', 'n_jobs': -1, 'n_neighbors': 13, 'weights': 'distance'}\n",
      "0.912029 (0.002435) with: {'metric': 'minkowski', 'n_jobs': -1, 'n_neighbors': 15, 'weights': 'uniform'}\n",
      "0.908960 (0.002611) with: {'metric': 'minkowski', 'n_jobs': -1, 'n_neighbors': 15, 'weights': 'distance'}\n",
      "0.909667 (0.003061) with: {'metric': 'minkowski', 'n_jobs': -1, 'n_neighbors': 17, 'weights': 'uniform'}\n",
      "0.906877 (0.003026) with: {'metric': 'minkowski', 'n_jobs': -1, 'n_neighbors': 17, 'weights': 'distance'}\n",
      "0.907402 (0.002879) with: {'metric': 'minkowski', 'n_jobs': -1, 'n_neighbors': 19, 'weights': 'uniform'}\n",
      "0.904967 (0.002970) with: {'metric': 'minkowski', 'n_jobs': -1, 'n_neighbors': 19, 'weights': 'distance'}\n",
      "CPU times: user 1.71 s, sys: 467 ms, total: 2.18 s\n",
      "Wall time: 6min 56s\n"
     ]
    },
    {
     "data": {
      "text/plain": [
       "test_acc               0.99\n",
       "test_f1_macro          0.94\n",
       "test_f2_macro          0.94\n",
       "test_rec_macro         0.94\n",
       "test_jaccard_macro     0.90\n",
       "test_kappa_score       0.91\n",
       "test_matthews_score    0.91\n",
       "dtype: float64"
      ]
     },
     "execution_count": 32,
     "metadata": {},
     "output_type": "execute_result"
    }
   ],
   "source": [
    "%%time\n",
    "#K-Nearest Neighbors\n",
    "knn = KNeighborsClassifier()\n",
    "\n",
    "n_neighbors = range(1, 21, 2)\n",
    "weights = ['uniform', 'distance']\n",
    "metric = ['euclidean', 'manhattan', 'minkowski']\n",
    "n_jobs = [-1]\n",
    "\n",
    "# define grid search\n",
    "grid = dict(n_neighbors=n_neighbors, weights=weights, metric=metric, n_jobs=n_jobs)\n",
    "\n",
    "knn_best = optimise_model(knn, grid, X_train, y_train, scoring=fone_scorer, cv=cv, n_jobs=-1)\n",
    "\n",
    "knn_scores = evaluate_model(knn_best, X_train, y_train, scoring=scoring, cv=cv, n_jobs=-1)\n",
    "knn_scores"
   ]
  },
  {
   "cell_type": "code",
   "execution_count": 33,
   "metadata": {},
   "outputs": [
    {
     "name": "stdout",
     "output_type": "stream",
     "text": [
      "Checking if 'knn.sav' already exists in '/home/lachy/dml/agtuary-machine-learning-challenge-master/models'...\n",
      "Saving 'knn.sav' to '/home/lachy/dml/agtuary-machine-learning-challenge-master/models/knn.sav'\n",
      "Save complete.\n"
     ]
    }
   ],
   "source": [
    "knn_best.fit(X_train, y_train)\n",
    "save_model(knn_best, 'knn.sav', models_dir)"
   ]
  },
  {
   "cell_type": "code",
   "execution_count": 34,
   "metadata": {},
   "outputs": [],
   "source": [
    "data = {'SGDClassifier': sgd_scores,\n",
    "        'MLPClassifier': mlp_scores,\n",
    "        'RandomForestClassifier': rfc_scores,\n",
    "        'AdaBoostClassifier': ada_scores,\n",
    "        'KNeighborsClassifier': knn_scores\n",
    "       }\n",
    "\n",
    "comp_scores = pd.DataFrame(data=data)"
   ]
  },
  {
   "cell_type": "code",
   "execution_count": 35,
   "metadata": {},
   "outputs": [
    {
     "data": {
      "text/html": [
       "<style  type=\"text/css\" >\n",
       "#T_0dab4_row0_col0,#T_0dab4_row1_col0,#T_0dab4_row2_col0,#T_0dab4_row3_col0,#T_0dab4_row4_col0,#T_0dab4_row5_col0,#T_0dab4_row6_col0{\n",
       "            background-color:  #440154;\n",
       "            color:  #f1f1f1;\n",
       "        }#T_0dab4_row0_col1{\n",
       "            background-color:  #e7e419;\n",
       "            color:  #000000;\n",
       "        }#T_0dab4_row0_col2,#T_0dab4_row0_col4,#T_0dab4_row1_col2,#T_0dab4_row1_col4,#T_0dab4_row2_col2,#T_0dab4_row2_col4,#T_0dab4_row3_col4,#T_0dab4_row4_col2,#T_0dab4_row4_col4,#T_0dab4_row5_col2,#T_0dab4_row5_col4,#T_0dab4_row6_col2,#T_0dab4_row6_col4{\n",
       "            background-color:  #fde725;\n",
       "            color:  #000000;\n",
       "        }#T_0dab4_row0_col3{\n",
       "            background-color:  #2b748e;\n",
       "            color:  #f1f1f1;\n",
       "        }#T_0dab4_row1_col1{\n",
       "            background-color:  #bade28;\n",
       "            color:  #000000;\n",
       "        }#T_0dab4_row1_col3{\n",
       "            background-color:  #24868e;\n",
       "            color:  #000000;\n",
       "        }#T_0dab4_row2_col1{\n",
       "            background-color:  #9bd93c;\n",
       "            color:  #000000;\n",
       "        }#T_0dab4_row2_col3{\n",
       "            background-color:  #2f6c8e;\n",
       "            color:  #f1f1f1;\n",
       "        }#T_0dab4_row3_col1{\n",
       "            background-color:  #48c16e;\n",
       "            color:  #000000;\n",
       "        }#T_0dab4_row3_col2{\n",
       "            background-color:  #e5e419;\n",
       "            color:  #000000;\n",
       "        }#T_0dab4_row3_col3{\n",
       "            background-color:  #471063;\n",
       "            color:  #f1f1f1;\n",
       "        }#T_0dab4_row4_col1{\n",
       "            background-color:  #b8de29;\n",
       "            color:  #000000;\n",
       "        }#T_0dab4_row4_col3{\n",
       "            background-color:  #1f968b;\n",
       "            color:  #000000;\n",
       "        }#T_0dab4_row5_col1{\n",
       "            background-color:  #b2dd2d;\n",
       "            color:  #000000;\n",
       "        }#T_0dab4_row5_col3{\n",
       "            background-color:  #2e6f8e;\n",
       "            color:  #f1f1f1;\n",
       "        }#T_0dab4_row6_col1{\n",
       "            background-color:  #b5de2b;\n",
       "            color:  #000000;\n",
       "        }#T_0dab4_row6_col3{\n",
       "            background-color:  #2e6d8e;\n",
       "            color:  #f1f1f1;\n",
       "        }</style><table id=\"T_0dab4_\" ><thead>    <tr>        <th class=\"blank level0\" ></th>        <th class=\"col_heading level0 col0\" >SGDClassifier</th>        <th class=\"col_heading level0 col1\" >MLPClassifier</th>        <th class=\"col_heading level0 col2\" >RandomForestClassifier</th>        <th class=\"col_heading level0 col3\" >AdaBoostClassifier</th>        <th class=\"col_heading level0 col4\" >KNeighborsClassifier</th>    </tr></thead><tbody>\n",
       "                <tr>\n",
       "                        <th id=\"T_0dab4_level0_row0\" class=\"row_heading level0 row0\" >test_acc</th>\n",
       "                        <td id=\"T_0dab4_row0_col0\" class=\"data row0 col0\" >0.73</td>\n",
       "                        <td id=\"T_0dab4_row0_col1\" class=\"data row0 col1\" >0.98</td>\n",
       "                        <td id=\"T_0dab4_row0_col2\" class=\"data row0 col2\" >0.99</td>\n",
       "                        <td id=\"T_0dab4_row0_col3\" class=\"data row0 col3\" >0.83</td>\n",
       "                        <td id=\"T_0dab4_row0_col4\" class=\"data row0 col4\" >0.99</td>\n",
       "            </tr>\n",
       "            <tr>\n",
       "                        <th id=\"T_0dab4_level0_row1\" class=\"row_heading level0 row1\" >test_f1_macro</th>\n",
       "                        <td id=\"T_0dab4_row1_col0\" class=\"data row1 col0\" >0.46</td>\n",
       "                        <td id=\"T_0dab4_row1_col1\" class=\"data row1 col1\" >0.89</td>\n",
       "                        <td id=\"T_0dab4_row1_col2\" class=\"data row1 col2\" >0.94</td>\n",
       "                        <td id=\"T_0dab4_row1_col3\" class=\"data row1 col3\" >0.68</td>\n",
       "                        <td id=\"T_0dab4_row1_col4\" class=\"data row1 col4\" >0.94</td>\n",
       "            </tr>\n",
       "            <tr>\n",
       "                        <th id=\"T_0dab4_level0_row2\" class=\"row_heading level0 row2\" >test_f2_macro</th>\n",
       "                        <td id=\"T_0dab4_row2_col0\" class=\"data row2 col0\" >0.54</td>\n",
       "                        <td id=\"T_0dab4_row2_col1\" class=\"data row2 col1\" >0.88</td>\n",
       "                        <td id=\"T_0dab4_row2_col2\" class=\"data row2 col2\" >0.94</td>\n",
       "                        <td id=\"T_0dab4_row2_col3\" class=\"data row2 col3\" >0.68</td>\n",
       "                        <td id=\"T_0dab4_row2_col4\" class=\"data row2 col4\" >0.94</td>\n",
       "            </tr>\n",
       "            <tr>\n",
       "                        <th id=\"T_0dab4_level0_row3\" class=\"row_heading level0 row3\" >test_rec_macro</th>\n",
       "                        <td id=\"T_0dab4_row3_col0\" class=\"data row3 col0\" >0.70</td>\n",
       "                        <td id=\"T_0dab4_row3_col1\" class=\"data row3 col1\" >0.87</td>\n",
       "                        <td id=\"T_0dab4_row3_col2\" class=\"data row3 col2\" >0.93</td>\n",
       "                        <td id=\"T_0dab4_row3_col3\" class=\"data row3 col3\" >0.71</td>\n",
       "                        <td id=\"T_0dab4_row3_col4\" class=\"data row3 col4\" >0.94</td>\n",
       "            </tr>\n",
       "            <tr>\n",
       "                        <th id=\"T_0dab4_level0_row4\" class=\"row_heading level0 row4\" >test_jaccard_macro</th>\n",
       "                        <td id=\"T_0dab4_row4_col0\" class=\"data row4 col0\" >0.35</td>\n",
       "                        <td id=\"T_0dab4_row4_col1\" class=\"data row4 col1\" >0.84</td>\n",
       "                        <td id=\"T_0dab4_row4_col2\" class=\"data row4 col2\" >0.90</td>\n",
       "                        <td id=\"T_0dab4_row4_col3\" class=\"data row4 col3\" >0.64</td>\n",
       "                        <td id=\"T_0dab4_row4_col4\" class=\"data row4 col4\" >0.90</td>\n",
       "            </tr>\n",
       "            <tr>\n",
       "                        <th id=\"T_0dab4_level0_row5\" class=\"row_heading level0 row5\" >test_kappa_score</th>\n",
       "                        <td id=\"T_0dab4_row5_col0\" class=\"data row5 col0\" >0.22</td>\n",
       "                        <td id=\"T_0dab4_row5_col1\" class=\"data row5 col1\" >0.83</td>\n",
       "                        <td id=\"T_0dab4_row5_col2\" class=\"data row5 col2\" >0.91</td>\n",
       "                        <td id=\"T_0dab4_row5_col3\" class=\"data row5 col3\" >0.47</td>\n",
       "                        <td id=\"T_0dab4_row5_col4\" class=\"data row5 col4\" >0.91</td>\n",
       "            </tr>\n",
       "            <tr>\n",
       "                        <th id=\"T_0dab4_level0_row6\" class=\"row_heading level0 row6\" >test_matthews_score</th>\n",
       "                        <td id=\"T_0dab4_row6_col0\" class=\"data row6 col0\" >0.29</td>\n",
       "                        <td id=\"T_0dab4_row6_col1\" class=\"data row6 col1\" >0.84</td>\n",
       "                        <td id=\"T_0dab4_row6_col2\" class=\"data row6 col2\" >0.91</td>\n",
       "                        <td id=\"T_0dab4_row6_col3\" class=\"data row6 col3\" >0.51</td>\n",
       "                        <td id=\"T_0dab4_row6_col4\" class=\"data row6 col4\" >0.91</td>\n",
       "            </tr>\n",
       "    </tbody></table>"
      ],
      "text/plain": [
       "<pandas.io.formats.style.Styler at 0x7f18114c2fa0>"
      ]
     },
     "execution_count": 35,
     "metadata": {},
     "output_type": "execute_result"
    }
   ],
   "source": [
    "comp_scores.style.background_gradient(cmap='viridis', axis=1).format('{:.2f}')"
   ]
  },
  {
   "cell_type": "markdown",
   "metadata": {},
   "source": [
    "### Test set performance"
   ]
  },
  {
   "cell_type": "code",
   "execution_count": 37,
   "metadata": {},
   "outputs": [],
   "source": [
    "#rfc\n",
    "rfc_pred = rfc_best.predict(X_test)"
   ]
  },
  {
   "cell_type": "code",
   "execution_count": 38,
   "metadata": {},
   "outputs": [
    {
     "data": {
      "text/plain": [
       "0.9137375820353241"
      ]
     },
     "execution_count": 38,
     "metadata": {},
     "output_type": "execute_result"
    }
   ],
   "source": [
    "cohen_kappa_score(y_test, rfc_pred)"
   ]
  },
  {
   "cell_type": "code",
   "execution_count": 58,
   "metadata": {},
   "outputs": [
    {
     "data": {
      "text/plain": [
       "<sklearn.metrics._plot.confusion_matrix.ConfusionMatrixDisplay at 0x7f18109f6160>"
      ]
     },
     "execution_count": 58,
     "metadata": {},
     "output_type": "execute_result"
    },
    {
     "data": {
      "image/png": "[encoded data removed]",
      "text/plain": [
       "<Figure size 720x720 with 2 Axes>"
      ]
     },
     "metadata": {
      "needs_background": "light"
     },
     "output_type": "display_data"
    }
   ],
   "source": [
    "cm = confusion_matrix(y_test, rfc_pred, labels=rfc_best.classes_, normalize=None)\n",
    "cmp = ConfusionMatrixDisplay(confusion_matrix=cm, display_labels=label_mapper.values())\n",
    "fig, ax = plt.subplots(figsize=(10,10))\n",
    "cmp.plot(ax=ax)"
   ]
  },
  {
   "cell_type": "code",
   "execution_count": 41,
   "metadata": {},
   "outputs": [
    {
     "name": "stdout",
     "output_type": "stream",
     "text": [
      "              precision    recall  f1-score   support\n",
      "\n",
      "       Other       0.99      0.99      0.99     81870\n",
      "     Sorghum       0.89      0.82      0.85      4043\n",
      "      Cotton       1.00      1.00      1.00      3293\n",
      "\n",
      "    accuracy                           0.99     89206\n",
      "   macro avg       0.96      0.94      0.95     89206\n",
      "weighted avg       0.99      0.99      0.99     89206\n",
      "\n"
     ]
    }
   ],
   "source": [
    "print(classification_report(y_test, rfc_pred, labels=rfc_best.classes_, target_names=label_mapper.values(), zero_division=0))"
   ]
  },
  {
   "cell_type": "code",
   "execution_count": 42,
   "metadata": {},
   "outputs": [],
   "source": [
    "#knn\n",
    "knn_pred = knn_best.predict(X_test)"
   ]
  },
  {
   "cell_type": "code",
   "execution_count": 43,
   "metadata": {},
   "outputs": [
    {
     "data": {
      "text/plain": [
       "0.9117310500632783"
      ]
     },
     "execution_count": 43,
     "metadata": {},
     "output_type": "execute_result"
    }
   ],
   "source": [
    "cohen_kappa_score(y_test, knn_pred)"
   ]
  },
  {
   "cell_type": "code",
   "execution_count": 59,
   "metadata": {},
   "outputs": [
    {
     "data": {
      "text/plain": [
       "<sklearn.metrics._plot.confusion_matrix.ConfusionMatrixDisplay at 0x7f181073bf70>"
      ]
     },
     "execution_count": 59,
     "metadata": {},
     "output_type": "execute_result"
    },
    {
     "data": {
      "image/png": "[encoded data removed]",
      "text/plain": [
       "<Figure size 720x720 with 2 Axes>"
      ]
     },
     "metadata": {
      "needs_background": "light"
     },
     "output_type": "display_data"
    }
   ],
   "source": [
    "cm = confusion_matrix(y_test, knn_pred, labels=knn_best.classes_, normalize=None)\n",
    "cmp = ConfusionMatrixDisplay(confusion_matrix=cm, display_labels=label_mapper.values())\n",
    "fig, ax = plt.subplots(figsize=(10,10))\n",
    "cmp.plot(ax=ax)"
   ]
  },
  {
   "cell_type": "code",
   "execution_count": 45,
   "metadata": {
    "scrolled": false
   },
   "outputs": [
    {
     "name": "stdout",
     "output_type": "stream",
     "text": [
      "              precision    recall  f1-score   support\n",
      "\n",
      "       Other       0.99      0.99      0.99     81870\n",
      "     Sorghum       0.85      0.85      0.85      4043\n",
      "      Cotton       1.00      1.00      1.00      3293\n",
      "\n",
      "    accuracy                           0.99     89206\n",
      "   macro avg       0.95      0.95      0.95     89206\n",
      "weighted avg       0.99      0.99      0.99     89206\n",
      "\n"
     ]
    }
   ],
   "source": [
    "print(classification_report(y_test, knn_pred, labels=knn_best.classes_, target_names=label_mapper.values(), zero_division=0))"
   ]
  },
  {
   "cell_type": "code",
   "execution_count": 46,
   "metadata": {},
   "outputs": [],
   "source": [
    "#mlp\n",
    "mlp_pred = mlp_best.predict(X_test)"
   ]
  },
  {
   "cell_type": "code",
   "execution_count": 47,
   "metadata": {},
   "outputs": [
    {
     "data": {
      "text/plain": [
       "0.8393920581162213"
      ]
     },
     "execution_count": 47,
     "metadata": {},
     "output_type": "execute_result"
    }
   ],
   "source": [
    "cohen_kappa_score(y_test, mlp_pred)"
   ]
  },
  {
   "cell_type": "code",
   "execution_count": 60,
   "metadata": {},
   "outputs": [
    {
     "data": {
      "text/plain": [
       "<sklearn.metrics._plot.confusion_matrix.ConfusionMatrixDisplay at 0x7f181144ec40>"
      ]
     },
     "execution_count": 60,
     "metadata": {},
     "output_type": "execute_result"
    },
    {
     "data": {
      "image/png": "[encoded data removed]",
      "text/plain": [
       "<Figure size 720x720 with 2 Axes>"
      ]
     },
     "metadata": {
      "needs_background": "light"
     },
     "output_type": "display_data"
    }
   ],
   "source": [
    "cm = confusion_matrix(y_test, mlp_pred, labels=mlp_best.classes_, normalize=None)\n",
    "cmp = ConfusionMatrixDisplay(confusion_matrix=cm, display_labels=label_mapper.values())\n",
    "fig, ax = plt.subplots(figsize=(10,10))\n",
    "cmp.plot(ax=ax)"
   ]
  },
  {
   "cell_type": "code",
   "execution_count": 48,
   "metadata": {
    "scrolled": false
   },
   "outputs": [
    {
     "name": "stdout",
     "output_type": "stream",
     "text": [
      "              precision    recall  f1-score   support\n",
      "\n",
      "       Other       0.98      0.99      0.99     81870\n",
      "     Sorghum       0.82      0.63      0.71      4043\n",
      "      Cotton       1.00      1.00      1.00      3293\n",
      "\n",
      "    accuracy                           0.98     89206\n",
      "   macro avg       0.93      0.87      0.90     89206\n",
      "weighted avg       0.97      0.98      0.98     89206\n",
      "\n"
     ]
    }
   ],
   "source": [
    "print(classification_report(y_test, mlp_pred, labels=mlp_best.classes_, target_names=label_mapper.values(), zero_division=0))"
   ]
  }
 ],
 "metadata": {
  "kernelspec": {
   "display_name": "Python 3 (ipykernel)",
   "language": "python",
   "name": "python3"
  },
  "language_info": {
   "codemirror_mode": {
    "name": "ipython",
    "version": 3
   },
   "file_extension": ".py",
   "mimetype": "text/x-python",
   "name": "python",
   "nbconvert_exporter": "python",
   "pygments_lexer": "ipython3",
   "version": "3.8.13"
  }
 },
 "nbformat": 4,
 "nbformat_minor": 4
}
