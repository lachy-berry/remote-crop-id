{
 "cells": [
  {
   "cell_type": "markdown",
   "metadata": {},
   "source": [
    "# Agtuary ML Challenge - Inference\n",
    "\n",
    "This notebook uses a pre-trained model selected from a field of candidates to perform inference as part of the [Agtuary ML Challenge](https://github.com/agtuary/machine-learning-challenge).\n",
    "\n",
    "\n",
    "Looking at the final output image (below and saved as Inference.png), there are areas characterised by noise, where the model has predicted a mix of crop types. As expected from training and validation, the mixed crop type areas mostly constitute Sorghum and Other, although a small number of areas contain Cotton pixels, too. Noise often occurs on the edges of objects, suggesting that the model may have difficulty characterising crop borders. Implementing an object-based detection approach could help to reduce this kind of noise."
   ]
  },
  {
   "cell_type": "code",
   "execution_count": 1,
   "metadata": {},
   "outputs": [],
   "source": [
    "import PIL\n",
    "import numpy as np\n",
    "import pandas as pd\n",
    "import matplotlib.pyplot as plt\n",
    "import matplotlib.colors as mcolors\n",
    "import matplotlib.patches as mpatches\n",
    "\n",
    "from sklearn.preprocessing import StandardScaler\n",
    "from sklearn.model_selection import train_test_split, cross_val_score, StratifiedShuffleSplit, RandomizedSearchCV\n",
    "from sklearn.ensemble import RandomForestClassifier\n",
    "from sklearn.metrics import confusion_matrix, ConfusionMatrixDisplay, classification_report, cohen_kappa_score, make_scorer\n",
    "from sklearn.neural_network import MLPClassifier\n",
    "\n",
    "import os\n",
    "import glob\n",
    "import pickle\n",
    "\n",
    "pd.options.mode.chained_assignment = None"
   ]
  },
  {
   "cell_type": "code",
   "execution_count": 2,
   "metadata": {},
   "outputs": [],
   "source": [
    "#!pip install seaborn\n",
    "import seaborn"
   ]
  },
  {
   "cell_type": "code",
   "execution_count": 3,
   "metadata": {},
   "outputs": [],
   "source": [
    "def load_image(path):\n",
    "    return np.array(PIL.Image.open(path))[:, :]"
   ]
  },
  {
   "cell_type": "code",
   "execution_count": 4,
   "metadata": {},
   "outputs": [],
   "source": [
    "def load_model(filename, folder):\n",
    "    print(f\"Checking if '{filename}' exists in '{folder}'...\")\n",
    "    file_path = os.path.join(folder, filename)\n",
    "    if os.path.exists(file_path) is True:\n",
    "        print(f\"Loading '{filename}'\")\n",
    "        with open(file_path, 'rb') as f:\n",
    "            model = pickle.load(f)\n",
    "        print(f\"'{filename}' loaded.\")\n",
    "        return model\n",
    "    else: \n",
    "        print(f\"Cannot load model: '{filename}' does not exist.\")"
   ]
  },
  {
   "cell_type": "code",
   "execution_count": 5,
   "metadata": {},
   "outputs": [
    {
     "name": "stdout",
     "output_type": "stream",
     "text": [
      "/home/lachy/dml/agtuary-machine-learning-challenge-master\n"
     ]
    }
   ],
   "source": [
    "# get the current working directory\n",
    "path = os.getcwd()\n",
    "print(path)"
   ]
  },
  {
   "cell_type": "code",
   "execution_count": 6,
   "metadata": {},
   "outputs": [
    {
     "name": "stdout",
     "output_type": "stream",
     "text": [
      "/home/lachy/dml/agtuary-machine-learning-challenge-master/data_raw\n"
     ]
    }
   ],
   "source": [
    "# get location of data subfolder\n",
    "subfolder = \"data_raw\"\n",
    "data_dir = os.path.join(path, subfolder)\n",
    "print(data_dir)"
   ]
  },
  {
   "cell_type": "code",
   "execution_count": 7,
   "metadata": {},
   "outputs": [
    {
     "name": "stdout",
     "output_type": "stream",
     "text": [
      "/home/lachy/dml/agtuary-machine-learning-challenge-master/models\n"
     ]
    }
   ],
   "source": [
    "# get location of models subfolder\n",
    "subfolder = \"models\"\n",
    "models_dir = os.path.join(path, subfolder)\n",
    "print(models_dir)"
   ]
  },
  {
   "cell_type": "code",
   "execution_count": 8,
   "metadata": {},
   "outputs": [],
   "source": [
    "label_mapper = {0: 'Other', 1:'Sorghum', 2:'Cotton'}\n",
    "colours = ['purple', 'red', 'white']"
   ]
  },
  {
   "cell_type": "code",
   "execution_count": 9,
   "metadata": {},
   "outputs": [],
   "source": [
    "cmap_ag = mcolors.ListedColormap(colours)\n",
    "cmap_ag.set_bad(color='lightgrey')"
   ]
  },
  {
   "cell_type": "code",
   "execution_count": 10,
   "metadata": {},
   "outputs": [],
   "source": [
    "#NDMI index\n",
    "def calc_ndmi(df):\n",
    "    df['ndmi'] = (df.B08 - df.B11) / (df.B08 + df.B11)\n",
    "    return df"
   ]
  },
  {
   "cell_type": "code",
   "execution_count": 11,
   "metadata": {},
   "outputs": [],
   "source": [
    "#GEMI index\n",
    "def calc_gemi(df):\n",
    "    gemi_w = (2*(df.B09**2 - df.B05**2) + 1.5*df.B09 + 0.5*df.B05) / (df.B09 + df.B05 + 0.5)\n",
    "    df['gemi'] = (gemi_w * (1 - 0.25*gemi_w) - (df.B05-0.125)/(1-df.B05))\n",
    "    return df"
   ]
  },
  {
   "cell_type": "code",
   "execution_count": 12,
   "metadata": {},
   "outputs": [],
   "source": [
    "def calc_indices(df):\n",
    "    df = calc_ndmi(df)\n",
    "    df = calc_gemi(df)\n",
    "    return df"
   ]
  },
  {
   "cell_type": "markdown",
   "metadata": {},
   "source": [
    "## Inference"
   ]
  },
  {
   "cell_type": "code",
   "execution_count": 13,
   "metadata": {},
   "outputs": [
    {
     "name": "stdout",
     "output_type": "stream",
     "text": [
      "Checking if 'scaler.sav' exists in '/home/lachy/dml/agtuary-machine-learning-challenge-master/models'...\n",
      "Loading 'scaler.sav'\n",
      "'scaler.sav' loaded.\n",
      "Checking if 'rfc.sav' exists in '/home/lachy/dml/agtuary-machine-learning-challenge-master/models'...\n",
      "Loading 'rfc.sav'\n",
      "'rfc.sav' loaded.\n"
     ]
    }
   ],
   "source": [
    "scaler = load_model('scaler.sav', models_dir)\n",
    "model = load_model('rfc.sav', models_dir)"
   ]
  },
  {
   "cell_type": "code",
   "execution_count": 14,
   "metadata": {},
   "outputs": [
    {
     "data": {
      "text/plain": [
       "['/home/lachy/dml/agtuary-machine-learning-challenge-master/data_raw/B01.tif',\n",
       " '/home/lachy/dml/agtuary-machine-learning-challenge-master/data_raw/B02.tif',\n",
       " '/home/lachy/dml/agtuary-machine-learning-challenge-master/data_raw/B03.tif',\n",
       " '/home/lachy/dml/agtuary-machine-learning-challenge-master/data_raw/B05.tif',\n",
       " '/home/lachy/dml/agtuary-machine-learning-challenge-master/data_raw/B06.tif',\n",
       " '/home/lachy/dml/agtuary-machine-learning-challenge-master/data_raw/B07.tif',\n",
       " '/home/lachy/dml/agtuary-machine-learning-challenge-master/data_raw/B08.tif',\n",
       " '/home/lachy/dml/agtuary-machine-learning-challenge-master/data_raw/B8A.tif',\n",
       " '/home/lachy/dml/agtuary-machine-learning-challenge-master/data_raw/B09.tif',\n",
       " '/home/lachy/dml/agtuary-machine-learning-challenge-master/data_raw/B11.tif',\n",
       " '/home/lachy/dml/agtuary-machine-learning-challenge-master/data_raw/B12.tif']"
      ]
     },
     "execution_count": 14,
     "metadata": {},
     "output_type": "execute_result"
    }
   ],
   "source": [
    "#get tif filenames\n",
    "tifs = sorted(glob.glob(data_dir + \"/*.tif\"))\n",
    "b8a = tifs.pop(11)\n",
    "tifs.insert(8, b8a)\n",
    "tifs.pop(3)\n",
    "tifs"
   ]
  },
  {
   "cell_type": "code",
   "execution_count": 15,
   "metadata": {},
   "outputs": [
    {
     "name": "stdout",
     "output_type": "stream",
     "text": [
      "B01: (4000, 4000)\n",
      "B02: (4000, 4000)\n",
      "B03: (4000, 4000)\n",
      "B05: (4000, 4000)\n",
      "B06: (4000, 4000)\n",
      "B07: (4000, 4000)\n",
      "B08: (4000, 4000)\n",
      "B8A: (4000, 4000)\n",
      "B09: (4000, 4000)\n",
      "B11: (4000, 4000)\n",
      "B12: (4000, 4000)\n"
     ]
    }
   ],
   "source": [
    "#create dict of bands\n",
    "tif_dict = {}\n",
    "for tif_path in tifs:\n",
    "    tif_name = tif_path[-7:][:3]\n",
    "    tif = load_image(tif_path)\n",
    "    print(f\"{tif_name}: {tif.shape}\")\n",
    "    col = tif.ravel() / 10000\n",
    "    tif_dict.update({tif_name: col})"
   ]
  },
  {
   "cell_type": "code",
   "execution_count": 16,
   "metadata": {},
   "outputs": [],
   "source": [
    "#create df\n",
    "tif_df = pd.DataFrame(tif_dict)\n",
    "tif_df['index'] = tif_df.index"
   ]
  },
  {
   "cell_type": "code",
   "execution_count": 17,
   "metadata": {},
   "outputs": [
    {
     "data": {
      "text/html": [
       "<div>\n",
       "<style scoped>\n",
       "    .dataframe tbody tr th:only-of-type {\n",
       "        vertical-align: middle;\n",
       "    }\n",
       "\n",
       "    .dataframe tbody tr th {\n",
       "        vertical-align: top;\n",
       "    }\n",
       "\n",
       "    .dataframe thead th {\n",
       "        text-align: right;\n",
       "    }\n",
       "</style>\n",
       "<table border=\"1\" class=\"dataframe\">\n",
       "  <thead>\n",
       "    <tr style=\"text-align: right;\">\n",
       "      <th></th>\n",
       "      <th>B01</th>\n",
       "      <th>B02</th>\n",
       "      <th>B03</th>\n",
       "      <th>B05</th>\n",
       "      <th>B06</th>\n",
       "      <th>B07</th>\n",
       "      <th>B08</th>\n",
       "      <th>B8A</th>\n",
       "      <th>B09</th>\n",
       "      <th>B11</th>\n",
       "      <th>B12</th>\n",
       "      <th>index</th>\n",
       "    </tr>\n",
       "  </thead>\n",
       "  <tbody>\n",
       "    <tr>\n",
       "      <th>0</th>\n",
       "      <td>0.0513</td>\n",
       "      <td>0.0957</td>\n",
       "      <td>0.1242</td>\n",
       "      <td>0.2128</td>\n",
       "      <td>0.2350</td>\n",
       "      <td>0.2504</td>\n",
       "      <td>0.2520</td>\n",
       "      <td>0.2748</td>\n",
       "      <td>0.2614</td>\n",
       "      <td>0.3577</td>\n",
       "      <td>0.2898</td>\n",
       "      <td>0</td>\n",
       "    </tr>\n",
       "    <tr>\n",
       "      <th>1</th>\n",
       "      <td>0.0513</td>\n",
       "      <td>0.0941</td>\n",
       "      <td>0.1234</td>\n",
       "      <td>0.2128</td>\n",
       "      <td>0.2350</td>\n",
       "      <td>0.2504</td>\n",
       "      <td>0.2542</td>\n",
       "      <td>0.2748</td>\n",
       "      <td>0.2614</td>\n",
       "      <td>0.3577</td>\n",
       "      <td>0.2898</td>\n",
       "      <td>1</td>\n",
       "    </tr>\n",
       "    <tr>\n",
       "      <th>2</th>\n",
       "      <td>0.0513</td>\n",
       "      <td>0.0834</td>\n",
       "      <td>0.1136</td>\n",
       "      <td>0.1895</td>\n",
       "      <td>0.2285</td>\n",
       "      <td>0.2391</td>\n",
       "      <td>0.2414</td>\n",
       "      <td>0.2662</td>\n",
       "      <td>0.2614</td>\n",
       "      <td>0.3401</td>\n",
       "      <td>0.2663</td>\n",
       "      <td>2</td>\n",
       "    </tr>\n",
       "    <tr>\n",
       "      <th>3</th>\n",
       "      <td>0.0513</td>\n",
       "      <td>0.0782</td>\n",
       "      <td>0.1056</td>\n",
       "      <td>0.1895</td>\n",
       "      <td>0.2285</td>\n",
       "      <td>0.2391</td>\n",
       "      <td>0.2378</td>\n",
       "      <td>0.2662</td>\n",
       "      <td>0.2614</td>\n",
       "      <td>0.3401</td>\n",
       "      <td>0.2663</td>\n",
       "      <td>3</td>\n",
       "    </tr>\n",
       "    <tr>\n",
       "      <th>4</th>\n",
       "      <td>0.0513</td>\n",
       "      <td>0.0786</td>\n",
       "      <td>0.1048</td>\n",
       "      <td>0.1837</td>\n",
       "      <td>0.2168</td>\n",
       "      <td>0.2274</td>\n",
       "      <td>0.2338</td>\n",
       "      <td>0.2564</td>\n",
       "      <td>0.2614</td>\n",
       "      <td>0.3224</td>\n",
       "      <td>0.2495</td>\n",
       "      <td>4</td>\n",
       "    </tr>\n",
       "  </tbody>\n",
       "</table>\n",
       "</div>"
      ],
      "text/plain": [
       "      B01     B02     B03     B05     B06     B07     B08     B8A     B09  \\\n",
       "0  0.0513  0.0957  0.1242  0.2128  0.2350  0.2504  0.2520  0.2748  0.2614   \n",
       "1  0.0513  0.0941  0.1234  0.2128  0.2350  0.2504  0.2542  0.2748  0.2614   \n",
       "2  0.0513  0.0834  0.1136  0.1895  0.2285  0.2391  0.2414  0.2662  0.2614   \n",
       "3  0.0513  0.0782  0.1056  0.1895  0.2285  0.2391  0.2378  0.2662  0.2614   \n",
       "4  0.0513  0.0786  0.1048  0.1837  0.2168  0.2274  0.2338  0.2564  0.2614   \n",
       "\n",
       "      B11     B12  index  \n",
       "0  0.3577  0.2898      0  \n",
       "1  0.3577  0.2898      1  \n",
       "2  0.3401  0.2663      2  \n",
       "3  0.3401  0.2663      3  \n",
       "4  0.3224  0.2495      4  "
      ]
     },
     "execution_count": 17,
     "metadata": {},
     "output_type": "execute_result"
    }
   ],
   "source": [
    "tif_df.head(5)"
   ]
  },
  {
   "cell_type": "code",
   "execution_count": 18,
   "metadata": {},
   "outputs": [],
   "source": [
    "#int8 data type\n",
    "mask = load_image(data_dir + \"/mask.png\")\n",
    "mask_cols = np.reshape(mask, (16000000, 3))"
   ]
  },
  {
   "cell_type": "code",
   "execution_count": 19,
   "metadata": {},
   "outputs": [],
   "source": [
    "tif_df['mask'] = np.where(np.sum(mask_cols, axis=1) > 0, int(1), np.nan)"
   ]
  },
  {
   "cell_type": "code",
   "execution_count": 20,
   "metadata": {},
   "outputs": [],
   "source": [
    "crop_df = tif_df[tif_df['mask'] == 1]"
   ]
  },
  {
   "cell_type": "code",
   "execution_count": 21,
   "metadata": {},
   "outputs": [],
   "source": [
    "crop_df = calc_indices(crop_df)"
   ]
  },
  {
   "cell_type": "code",
   "execution_count": 22,
   "metadata": {},
   "outputs": [],
   "source": [
    "crop_df = crop_df.drop(columns=['B07', 'B08', 'B8A'])"
   ]
  },
  {
   "cell_type": "code",
   "execution_count": 23,
   "metadata": {},
   "outputs": [],
   "source": [
    "X = crop_df.drop(columns=['index', 'mask'])"
   ]
  },
  {
   "cell_type": "code",
   "execution_count": 24,
   "metadata": {},
   "outputs": [],
   "source": [
    "X = scaler.transform(X)"
   ]
  },
  {
   "cell_type": "code",
   "execution_count": 25,
   "metadata": {},
   "outputs": [],
   "source": [
    "pred = model.predict(X)"
   ]
  },
  {
   "cell_type": "code",
   "execution_count": 26,
   "metadata": {},
   "outputs": [
    {
     "data": {
      "text/html": [
       "<div>\n",
       "<style scoped>\n",
       "    .dataframe tbody tr th:only-of-type {\n",
       "        vertical-align: middle;\n",
       "    }\n",
       "\n",
       "    .dataframe tbody tr th {\n",
       "        vertical-align: top;\n",
       "    }\n",
       "\n",
       "    .dataframe thead th {\n",
       "        text-align: right;\n",
       "    }\n",
       "</style>\n",
       "<table border=\"1\" class=\"dataframe\">\n",
       "  <thead>\n",
       "    <tr style=\"text-align: right;\">\n",
       "      <th></th>\n",
       "      <th>index</th>\n",
       "      <th>pred</th>\n",
       "    </tr>\n",
       "  </thead>\n",
       "  <tbody>\n",
       "    <tr>\n",
       "      <th>0</th>\n",
       "      <td>320</td>\n",
       "      <td>0</td>\n",
       "    </tr>\n",
       "    <tr>\n",
       "      <th>1</th>\n",
       "      <td>321</td>\n",
       "      <td>0</td>\n",
       "    </tr>\n",
       "    <tr>\n",
       "      <th>2</th>\n",
       "      <td>322</td>\n",
       "      <td>0</td>\n",
       "    </tr>\n",
       "    <tr>\n",
       "      <th>3</th>\n",
       "      <td>323</td>\n",
       "      <td>0</td>\n",
       "    </tr>\n",
       "    <tr>\n",
       "      <th>4</th>\n",
       "      <td>324</td>\n",
       "      <td>0</td>\n",
       "    </tr>\n",
       "    <tr>\n",
       "      <th>...</th>\n",
       "      <td>...</td>\n",
       "      <td>...</td>\n",
       "    </tr>\n",
       "    <tr>\n",
       "      <th>2408208</th>\n",
       "      <td>15999995</td>\n",
       "      <td>2</td>\n",
       "    </tr>\n",
       "    <tr>\n",
       "      <th>2408209</th>\n",
       "      <td>15999996</td>\n",
       "      <td>1</td>\n",
       "    </tr>\n",
       "    <tr>\n",
       "      <th>2408210</th>\n",
       "      <td>15999997</td>\n",
       "      <td>1</td>\n",
       "    </tr>\n",
       "    <tr>\n",
       "      <th>2408211</th>\n",
       "      <td>15999998</td>\n",
       "      <td>1</td>\n",
       "    </tr>\n",
       "    <tr>\n",
       "      <th>2408212</th>\n",
       "      <td>15999999</td>\n",
       "      <td>1</td>\n",
       "    </tr>\n",
       "  </tbody>\n",
       "</table>\n",
       "<p>2408213 rows × 2 columns</p>\n",
       "</div>"
      ],
      "text/plain": [
       "            index  pred\n",
       "0             320     0\n",
       "1             321     0\n",
       "2             322     0\n",
       "3             323     0\n",
       "4             324     0\n",
       "...           ...   ...\n",
       "2408208  15999995     2\n",
       "2408209  15999996     1\n",
       "2408210  15999997     1\n",
       "2408211  15999998     1\n",
       "2408212  15999999     1\n",
       "\n",
       "[2408213 rows x 2 columns]"
      ]
     },
     "execution_count": 26,
     "metadata": {},
     "output_type": "execute_result"
    }
   ],
   "source": [
    "data = {'index': crop_df.index, 'pred': pred}\n",
    "pred_df = pd.DataFrame(data=data)\n",
    "pred_df"
   ]
  },
  {
   "cell_type": "code",
   "execution_count": 27,
   "metadata": {},
   "outputs": [],
   "source": [
    "left = tif_df[['index']]\n",
    "right = pred_df\n",
    "inf_df = pd.merge(left=left, right=right, on='index', how='left')"
   ]
  },
  {
   "cell_type": "code",
   "execution_count": 28,
   "metadata": {},
   "outputs": [],
   "source": [
    "inf_pixels = inf_df.pred.ravel()"
   ]
  },
  {
   "cell_type": "code",
   "execution_count": 29,
   "metadata": {},
   "outputs": [],
   "source": [
    "inf_im = np.reshape(inf_pixels, (4000, 4000))"
   ]
  },
  {
   "cell_type": "code",
   "execution_count": 30,
   "metadata": {},
   "outputs": [
    {
     "data": {
      "image/png": "[encoded data removed]",
      "text/plain": [
       "<Figure size 1152x1152 with 1 Axes>"
      ]
     },
     "metadata": {},
     "output_type": "display_data"
    }
   ],
   "source": [
    "plt.style.use('ggplot')\n",
    "\n",
    "fig = plt.figure(figsize=(16, 16))\n",
    "ax = fig.add_subplot(111)\n",
    "\n",
    "values = list(label_mapper.values())\n",
    "patches = [mpatches.Patch(color=colours[i], label=\"{l}\".format(l=values[i]) ) for i in range(len(values))]\n",
    "plt.legend(handles=patches, loc='lower left')\n",
    "\n",
    "ax.imshow(inf_im, cmap=cmap_ag, aspect='equal')\n",
    "\n",
    "plt.savefig('Inference.png', dpi=300, bbox_inches='tight')"
   ]
  }
 ],
 "metadata": {
  "kernelspec": {
   "display_name": "Python 3 (ipykernel)",
   "language": "python",
   "name": "python3"
  },
  "language_info": {
   "codemirror_mode": {
    "name": "ipython",
    "version": 3
   },
   "file_extension": ".py",
   "mimetype": "text/x-python",
   "name": "python",
   "nbconvert_exporter": "python",
   "pygments_lexer": "ipython3",
   "version": "3.8.13"
  }
 },
 "nbformat": 4,
 "nbformat_minor": 4
}
